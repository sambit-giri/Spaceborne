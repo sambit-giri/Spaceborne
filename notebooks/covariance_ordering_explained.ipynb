{
 "cells": [
  {
   "cell_type": "markdown",
   "id": "6d9f66ca",
   "metadata": {},
   "source": [
    "# Datavector and covariance matrix ordering\n",
    "\n",
    "D. Sciotti, M. Bonici\n",
    "\n",
    "In the following, we present the conventions used in the ordering of the theory datavectors and analytical covariance (Gaussian-only and Gaussian + SSC) matrices."
   ]
  },
  {
   "cell_type": "markdown",
   "id": "7684a011",
   "metadata": {},
   "source": [
    "## Angular Power Spectra\n",
    "\n",
    "The angular Power Spectra have the form $C^{AB}_{ij}(\\ell)$, with:\n",
    "* $A, B$ the photometric probe index: $A = L$ (WL) or $A = G$ (GCph). We will then have:\n",
    "    * $C^{LL}_{ij}(\\ell)$ Lensing-Lensing. We have that $C^{LL}_{ij}(\\ell) = C^{LL}_{ji}(\\ell)$\n",
    "    * $C^{GL}_{ij}(\\ell)$ Galaxy-Lensing. This matrix is asymmetric in $i,j$: $C^{GL}_{ji}(\\ell) = C^{LG}_{ij}(\\ell)$\n",
    "    * $C^{GG}_{ij}(\\ell)$ Galaxy-Galaxy. We again have $C^{GG}_{ij}(\\ell) = C^{GG}_{ji}(\\ell)$\n",
    "   \n",
    "* $i, j$ the photo-$z$ bin indices: ($i = 1, 2, ..., N_{zbins}$). We will use $N_{zbins}=10$\n",
    "* $\\ell$ is the multipole value"
   ]
  },
  {
   "cell_type": "markdown",
   "id": "68034b27",
   "metadata": {},
   "source": [
    "For each probe combination ($LL, GL, GG$) we can arrange the $C^{AB}_{ij}(\\ell)$ in a 2- or 3-dimensional `numpy` array: \n",
    "* 3D: $C^{AB}_{ij}(\\ell)$ = `C_AB[ell, i, j]`, of shape `(ell_bins, z_bins, z_bins)`\n",
    "* 2D: $C^{AB}_{ij}(\\ell)$ = `C_AB[ell, p]`, of shape `(ell_bins, z_pairs)`\n",
    "\n",
    "`z_pairs` being the number of unique redshift bins combinations. Being C_LL and C_GG symmetrix under the exchange of redshift indices, we will have:\n",
    "- LL, GG:  `z_pairs = (z_bins*(z_bins + 1))//2` (that is, $\\frac{N_{zbins}(N_{zbins}+1)}{2}$), which is equal to 55 for `z_bins= 10` \\\n",
    "\n",
    "while in the case of the cross-spectrum, GL (or LG) we will have \n",
    "- GL (or LG): `z_pairs = z_bins**2` (that is, $N_{zbins}^2$), which is equal to 100 for `z_bins= 10` "
   ]
  },
  {
   "cell_type": "markdown",
   "id": "0fca1137",
   "metadata": {},
   "source": [
    "For LL and GG, we take `i from 1 to zbins` and `j from i to zbins` for each `ell`. The code would then be"
   ]
  },
  {
   "cell_type": "code",
   "execution_count": 4,
   "id": "ad329980",
   "metadata": {},
   "outputs": [],
   "source": [
    "def Cl_3D_to_2D_symmetric(ell_bins, z_pairs, Cl_3D):\n",
    "    Cl_2D = np.zeros((ell_bins, z_pairs))\n",
    "    for ell in range(ell_bins):\n",
    "        p = 0\n",
    "        for i in range(z_bins):\n",
    "            for j in range(i, z_bins):\n",
    "                Cl_2D[ell, p] = Cl_3D[ell, i, j] \n",
    "                p += 1\n",
    "    return Cl_2D"
   ]
  },
  {
   "cell_type": "code",
   "execution_count": 5,
   "id": "1921106d",
   "metadata": {},
   "outputs": [],
   "source": [
    "def Cl_2D_to_3D_symmetric_new(ell_bins, z_bins, Cl_2D):\n",
    "    Cl_3D = np.zeros((ell_bins, z_bins, z_bins))\n",
    "    for ell in range(ell_bins):\n",
    "        p = 0\n",
    "        for i in range(z_bins):\n",
    "            for j in range(i, z_bins):\n",
    "                Cl_3D[ell, i, j] = Cl_2D[ell, p]\n",
    "                p += 1\n",
    "    return Cl_3D"
   ]
  },
  {
   "cell_type": "markdown",
   "id": "8a2511d2",
   "metadata": {},
   "source": [
    "<img src=\"Cl_unpacking.png\" alt=\"drawing\" width=\"450\"/>\n"
   ]
  },
  {
   "cell_type": "code",
   "execution_count": null,
   "id": "8ff5cbc4",
   "metadata": {},
   "outputs": [],
   "source": [
    "import numpy as np\n",
    "import matplotlib.pyplot as plt\n",
    "import sys\n",
    "from pathlib import Path\n",
    "import time\n",
    "# get project directory\n",
    "path = Path.cwd().parent.parent\n",
    "# import some useful functions \n",
    "sys.path.append(str(path.parent / 'my_module'))\n",
    "import my_module as mm\n",
    "\n",
    "start_time = time.perf_counter()\n",
    "\n",
    "params = {'lines.linewidth' : 3.5,\n",
    "          'font.size' : 20,\n",
    "          'axes.labelsize': 'x-large',\n",
    "          'axes.titlesize':'x-large',\n",
    "          'xtick.labelsize':'x-large',\n",
    "          'ytick.labelsize':'x-large',\n",
    "          'mathtext.fontset': 'stix',\n",
    "          'font.family': 'STIXGeneral'\n",
    "          }\n",
    "plt.rcParams.update(params)\n",
    "markersize = 10"
   ]
  }
 ],
 "metadata": {
  "kernelspec": {
   "display_name": "Python 3 (ipykernel)",
   "language": "python",
   "name": "python3"
  },
  "language_info": {
   "codemirror_mode": {
    "name": "ipython",
    "version": 3
   },
   "file_extension": ".py",
   "mimetype": "text/x-python",
   "name": "python",
   "nbconvert_exporter": "python",
   "pygments_lexer": "ipython3",
   "version": "3.9.7"
  }
 },
 "nbformat": 4,
 "nbformat_minor": 5
}
